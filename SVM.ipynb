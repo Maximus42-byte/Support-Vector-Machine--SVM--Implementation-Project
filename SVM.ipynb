{
  "cells": [
    {
      "cell_type": "code",
      "execution_count": 1,
      "metadata": {
        "id": "Z3YGrgpjjqeF"
      },
      "outputs": [],
      "source": [
        "import numpy as np\n",
        "import pandas as pd\n",
        "import matplotlib.pyplot as plt\n",
        "import seaborn as sns\n",
        "import sklearn"
      ]
    },
    {
      "cell_type": "code",
      "execution_count": 53,
      "metadata": {
        "id": "MHfDomNudNTw"
      },
      "outputs": [],
      "source": [
        "from sklearn.datasets import load_svmlight_files\n",
        "import urllib.request\n",
        "\n",
        "from sklearn.model_selection import train_test_split\n",
        "from sklearn.metrics import accuracy_score, confusion_matrix, balanced_accuracy_score\n",
        "import cvxopt\n",
        "from sklearn.svm import SVC"
      ]
    },
    {
      "cell_type": "code",
      "execution_count": 3,
      "metadata": {
        "colab": {
          "base_uri": "https://localhost:8080/"
        },
        "id": "sLsbUBxOkYrV",
        "outputId": "654e619b-4ab6-4e1e-fa09-8c65271cec42"
      },
      "outputs": [
        {
          "output_type": "stream",
          "name": "stdout",
          "text": [
            "(3104, 36)\n",
            "(3104,)\n"
          ]
        }
      ],
      "source": [
        "# Download dataset\n",
        "url = \"https://www.csie.ntu.edu.tw/~cjlin/libsvmtools/datasets/multiclass/satimage.scale.tr\"\n",
        "urllib.request.urlretrieve(url, \"satimage.scale.tr\")\n",
        "\n",
        "# Load dataset\n",
        "X_train, y_train = load_svmlight_files(['satimage.scale.tr'])\n",
        "print(X_train.shape)\n",
        "print(y_train.shape)"
      ]
    },
    {
      "cell_type": "code",
      "execution_count": 4,
      "metadata": {
        "colab": {
          "base_uri": "https://localhost:8080/"
        },
        "id": "7QqB2Lo4krnM",
        "outputId": "284ee889-f0ef-48cc-f734-8746b155681b"
      },
      "outputs": [
        {
          "output_type": "stream",
          "name": "stdout",
          "text": [
            "(2000, 36)\n",
            "(2000,)\n"
          ]
        }
      ],
      "source": [
        "# Download dataset\n",
        "url2 = \"https://www.csie.ntu.edu.tw/~cjlin/libsvmtools/datasets/multiclass/satimage.scale.t\"\n",
        "urllib.request.urlretrieve(url2, \"satimage.scale.t\")\n",
        "\n",
        "# Load dataset\n",
        "X_test, y_test = load_svmlight_files(['satimage.scale.t'])\n",
        "print(X_test.shape)\n",
        "print(y_test.shape)"
      ]
    },
    {
      "cell_type": "code",
      "execution_count": 5,
      "metadata": {
        "colab": {
          "base_uri": "https://localhost:8080/"
        },
        "id": "b8EyN8VsksOG",
        "outputId": "19fdc9b2-6770-4c57-c5eb-6b8305ac9191"
      },
      "outputs": [
        {
          "output_type": "stream",
          "name": "stdout",
          "text": [
            "(1331, 36)\n",
            "(1331,)\n"
          ]
        }
      ],
      "source": [
        "# Download dataset\n",
        "url3 = \"https://www.csie.ntu.edu.tw/~cjlin/libsvmtools/datasets/multiclass/satimage.scale.val\"\n",
        "urllib.request.urlretrieve(url3, \"satimage.scale.val\")\n",
        "\n",
        "# Load dataset\n",
        "X_val, y_val = load_svmlight_files(['satimage.scale.val'])\n",
        "print(X_val.shape)\n",
        "print(y_val.shape)"
      ]
    },
    {
      "cell_type": "code",
      "execution_count": 6,
      "metadata": {
        "colab": {
          "base_uri": "https://localhost:8080/"
        },
        "id": "O3LFfrmupWBo",
        "outputId": "d3af4082-4d7e-4414-d392-543e8b381689"
      },
      "outputs": [
        {
          "output_type": "execute_result",
          "data": {
            "text/plain": [
              "(scipy.sparse._csr.csr_matrix, numpy.ndarray)"
            ]
          },
          "metadata": {},
          "execution_count": 6
        }
      ],
      "source": [
        "type(X_train) , type(y_train)"
      ]
    },
    {
      "cell_type": "code",
      "execution_count": 7,
      "metadata": {
        "colab": {
          "base_uri": "https://localhost:8080/"
        },
        "id": "vvBMbSvlFS3E",
        "outputId": "0cbe282c-cf0c-4b8b-b000-06711902b188"
      },
      "outputs": [
        {
          "output_type": "execute_result",
          "data": {
            "text/plain": [
              "<1x36 sparse matrix of type '<class 'numpy.float64'>'\n",
              "\twith 34 stored elements in Compressed Sparse Row format>"
            ]
          },
          "metadata": {},
          "execution_count": 7
        }
      ],
      "source": [
        "X_train[0][0]"
      ]
    },
    {
      "cell_type": "code",
      "execution_count": 8,
      "metadata": {
        "colab": {
          "base_uri": "https://localhost:8080/"
        },
        "id": "24h13JlB8Top",
        "outputId": "1c6b397c-580b-4156-b578-313c86b6905b"
      },
      "outputs": [
        {
          "output_type": "stream",
          "name": "stdout",
          "text": [
            "(847, 36)\n",
            "(847,)\n"
          ]
        }
      ],
      "source": [
        "# Classes to keep\n",
        "classes = [4, 6]\n",
        "\n",
        "# Filter rows by y_train values\n",
        "keep = np.where(np.isin(y_train, classes))[0]\n",
        "\n",
        "# Apply indices to sparse X_train\n",
        "X_filtered = X_train[keep, :]\n",
        "\n",
        "# Apply indices to dense y_train\n",
        "y_filtered = y_train[keep]\n",
        "print(X_filtered.shape)\n",
        "print(y_filtered.shape)"
      ]
    },
    {
      "cell_type": "code",
      "execution_count": 9,
      "metadata": {
        "colab": {
          "base_uri": "https://localhost:8080/"
        },
        "id": "iuk0t3ybrn3W",
        "outputId": "89d3bb41-9a46-4140-f625-16ec2bc6f8fe"
      },
      "outputs": [
        {
          "output_type": "execute_result",
          "data": {
            "text/plain": [
              "numpy.ndarray"
            ]
          },
          "metadata": {},
          "execution_count": 9
        }
      ],
      "source": [
        "type(y_filtered)"
      ]
    },
    {
      "cell_type": "code",
      "execution_count": 10,
      "metadata": {
        "colab": {
          "base_uri": "https://localhost:8080/"
        },
        "id": "x3HoRQes_qkh",
        "outputId": "4eafe7c9-46af-4ec3-e5aa-b42c95b97563"
      },
      "outputs": [
        {
          "output_type": "execute_result",
          "data": {
            "text/plain": [
              "scipy.sparse._csr.csr_matrix"
            ]
          },
          "metadata": {},
          "execution_count": 10
        }
      ],
      "source": [
        "type(X_filtered)"
      ]
    },
    {
      "cell_type": "code",
      "execution_count": 11,
      "metadata": {
        "colab": {
          "base_uri": "https://localhost:8080/"
        },
        "id": "WVfFn6JTK2jl",
        "outputId": "a30b55a9-2c1d-4cd2-c59a-618d71368f8f"
      },
      "outputs": [
        {
          "output_type": "execute_result",
          "data": {
            "text/plain": [
              "array([6., 6., 6., 6., 4., 6., 6., 6., 6., 6., 6., 6., 6., 6., 6., 6., 6.,\n",
              "       6., 6., 4., 6., 6., 6., 6., 6., 6., 6., 6., 6., 6., 6., 6., 6., 6.,\n",
              "       6., 6., 6., 6., 6., 6., 6., 6., 6., 6., 4., 6., 6., 6., 6., 6., 6.,\n",
              "       6., 6., 6., 6., 6., 6., 6., 6., 6., 6., 6., 6., 6., 6., 6., 6., 4.,\n",
              "       6., 6., 4., 6., 6., 6., 6., 6., 6., 6., 6., 6., 6., 6., 6., 6., 6.,\n",
              "       4., 6., 4., 6., 4., 6., 6., 6., 4., 6., 6., 6., 6., 6., 6.])"
            ]
          },
          "metadata": {},
          "execution_count": 11
        }
      ],
      "source": [
        "y_filtered[250:350]"
      ]
    },
    {
      "cell_type": "code",
      "execution_count": 12,
      "metadata": {
        "colab": {
          "base_uri": "https://localhost:8080/"
        },
        "id": "WQwO9mcmZlBQ",
        "outputId": "9a963d3b-c209-4aee-d548-7b87b7d4c38d"
      },
      "outputs": [
        {
          "output_type": "execute_result",
          "data": {
            "text/plain": [
              "array([ 1.,  1.,  1.,  1., -1.,  1.,  1.,  1.,  1.,  1.,  1.,  1.,  1.,\n",
              "        1.,  1.,  1.,  1.,  1.,  1., -1.,  1.,  1.,  1.,  1.,  1.,  1.,\n",
              "        1.,  1.,  1.,  1.,  1.,  1.,  1.,  1.,  1.,  1.,  1.,  1.,  1.,\n",
              "        1.,  1.,  1.,  1.,  1., -1.,  1.,  1.,  1.,  1.,  1.,  1.,  1.,\n",
              "        1.,  1.,  1.,  1.,  1.,  1.,  1.,  1.,  1.,  1.,  1.,  1.,  1.,\n",
              "        1.,  1., -1.,  1.,  1., -1.,  1.,  1.,  1.,  1.,  1.,  1.,  1.,\n",
              "        1.,  1.,  1.,  1.,  1.,  1.,  1., -1.,  1., -1.,  1., -1.,  1.,\n",
              "        1.,  1., -1.,  1.,  1.,  1.,  1.,  1.,  1.])"
            ]
          },
          "metadata": {},
          "execution_count": 12
        }
      ],
      "source": [
        "y_binary = np.where(y_filtered == 4, -1, np.where(y_filtered == 6, 1, y_filtered))\n",
        "y_binary[250:350]"
      ]
    },
    {
      "cell_type": "code",
      "execution_count": 13,
      "metadata": {
        "id": "yBxy1rS9lm8i"
      },
      "outputs": [],
      "source": [
        "\n",
        "y = y_binary\n",
        "X = X_filtered\n",
        "# Parameters\n",
        "C = 1.0\n",
        "X = X.toarray()\n",
        "\n",
        "# Kernel matrix\n",
        "K = X @ X.T\n"
      ]
    },
    {
      "cell_type": "code",
      "execution_count": 14,
      "metadata": {
        "id": "Qra34pZ_qgtb"
      },
      "outputs": [],
      "source": [
        "# Construct QP\n",
        "\n",
        "P = cvxopt.matrix(np.outer(y, y) * K)\n",
        "q = cvxopt.matrix(-np.ones((len(y), 1)))\n",
        "\n",
        "#G = cvxopt.matrix(np.diag(np.ones(len(y)) * -1))\n",
        "top = np.diag(np.ones(len(y)) * -1)\n",
        "bot = np.identity(len(y))\n",
        "G = cvxopt.matrix(np.vstack((top, bot)))\n",
        "\n",
        "\n",
        "left = np.zeros(len(y))\n",
        "right  = np.ones(len(y)) * C\n",
        "h = cvxopt.matrix(np.hstack((left,right)))\n",
        "\n",
        "A = cvxopt.matrix(y, (1,len(y)))\n",
        "b = cvxopt.matrix(np.zeros(1))\n"
      ]
    },
    {
      "cell_type": "code",
      "execution_count": 15,
      "metadata": {
        "colab": {
          "base_uri": "https://localhost:8080/"
        },
        "id": "LIxc0dCPuWsd",
        "outputId": "144ceb8b-82d4-48d2-a31b-dd034a279a30"
      },
      "outputs": [
        {
          "output_type": "stream",
          "name": "stdout",
          "text": [
            "(847, 847) (847, 1) (1694, 847) (1694, 1) (1, 847) (1, 1)\n"
          ]
        }
      ],
      "source": [
        "print(P.size, q.size, G.size, h.size, A.size, b.size)\n"
      ]
    },
    {
      "cell_type": "code",
      "execution_count": 16,
      "metadata": {
        "colab": {
          "base_uri": "https://localhost:8080/"
        },
        "id": "1vjByWZot7cE",
        "outputId": "da79d78d-597a-40c6-c779-71b1ffd90332"
      },
      "outputs": [
        {
          "output_type": "stream",
          "name": "stdout",
          "text": [
            "     pcost       dcost       gap    pres   dres\n",
            " 0: -4.1814e+02 -2.1475e+03  1e+04  3e+00  1e-13\n",
            " 1: -2.8867e+02 -1.4286e+03  2e+03  3e-01  1e-13\n",
            " 2: -2.7710e+02 -4.7698e+02  2e+02  2e-02  9e-14\n",
            " 3: -3.0754e+02 -3.9958e+02  1e+02  8e-03  9e-14\n",
            " 4: -3.2114e+02 -3.7229e+02  5e+01  4e-03  1e-13\n",
            " 5: -3.2791e+02 -3.6008e+02  3e+01  2e-03  9e-14\n",
            " 6: -3.3417e+02 -3.4949e+02  2e+01  9e-04  1e-13\n",
            " 7: -3.3732e+02 -3.4436e+02  7e+00  3e-04  1e-13\n",
            " 8: -3.3870e+02 -3.4213e+02  3e+00  1e-04  1e-13\n",
            " 9: -3.3959e+02 -3.4086e+02  1e+00  3e-05  1e-13\n",
            "10: -3.4009e+02 -3.4022e+02  1e-01  6e-14  1e-13\n",
            "11: -3.4015e+02 -3.4016e+02  8e-03  6e-14  1e-13\n",
            "12: -3.4016e+02 -3.4016e+02  2e-04  1e-13  1e-13\n",
            "Optimal solution found.\n"
          ]
        }
      ],
      "source": [
        "# Solve QP model\n",
        "sol = cvxopt.solvers.qp(P, q, G, h, A, b)"
      ]
    },
    {
      "cell_type": "code",
      "execution_count": 17,
      "metadata": {
        "colab": {
          "base_uri": "https://localhost:8080/"
        },
        "id": "TbfpTv55u5I0",
        "outputId": "0082bbff-af3e-45d1-ba36-d654fef9ac5d"
      },
      "outputs": [
        {
          "output_type": "stream",
          "name": "stdout",
          "text": [
            "Alphas =  [9.99997832e-01 9.99999950e-01 9.99999024e-01 9.99999270e-01\n",
            " 9.99999767e-01 9.99999959e-01 9.99999864e-01 7.03007394e-01\n",
            " 9.99999954e-01 9.99999932e-01 9.99999915e-01 9.99999849e-01\n",
            " 3.66964216e-01 9.99999934e-01 9.99999914e-01 9.99999869e-01\n",
            " 9.99999798e-01 9.99999949e-01 9.99999938e-01 9.99999958e-01\n",
            " 9.99999932e-01 9.99999960e-01 9.99999959e-01 9.99999930e-01\n",
            " 9.99999938e-01 9.99999939e-01 9.99999917e-01 9.99999855e-01\n",
            " 9.99999888e-01 9.99999918e-01 9.99999874e-01 9.99999926e-01\n",
            " 9.99999957e-01 9.99999950e-01 9.99999910e-01 9.92079780e-01\n",
            " 9.99999667e-01 9.99999798e-01 9.99999915e-01 9.99999953e-01\n",
            " 9.99999915e-01 9.99999857e-01 9.99999939e-01 9.99999878e-01\n",
            " 9.99999892e-01 9.99999801e-01 9.99999752e-01 9.99999922e-01\n",
            " 9.99999949e-01 9.99999860e-01 9.99999932e-01 9.99999699e-01\n",
            " 4.00327333e-02 9.99999945e-01 9.99999696e-01 1.33471266e-01\n",
            " 9.99999870e-01 9.99999892e-01 9.99999922e-01 9.99999645e-01\n",
            " 9.99999380e-01 9.99999859e-01 9.99999906e-01 9.99999859e-01\n",
            " 9.99999945e-01 9.99999890e-01 9.99999369e-01 9.99999945e-01\n",
            " 9.99999912e-01 9.99999607e-01 9.99999819e-01 9.99999950e-01\n",
            " 9.99999900e-01 9.99999790e-01 9.99999953e-01 9.99998120e-01\n",
            " 9.99999938e-01 9.99999899e-01 9.99999535e-01 9.99999937e-01\n",
            " 9.99999816e-01 9.99999749e-01 9.99999830e-01 9.99999776e-01\n",
            " 9.99999913e-01 9.99999897e-01 9.99999874e-01 9.99999517e-01\n",
            " 9.99999902e-01 9.99999847e-01 9.99999897e-01 9.99999937e-01\n",
            " 9.99999702e-01 9.99999938e-01 9.99999873e-01 9.99999958e-01\n",
            " 9.99999892e-01 9.99999882e-01 8.74651466e-01 9.99999929e-01\n",
            " 5.97160830e-01 9.99999824e-01 9.99999657e-01 9.99999848e-01\n",
            " 9.99999701e-01 9.99999877e-01 2.05431963e-01 9.99998593e-01\n",
            " 9.99999328e-01 9.99998768e-01 9.99999846e-01 9.99999889e-01\n",
            " 9.99999907e-01 9.99999938e-01 9.99999797e-01 9.99999731e-01\n",
            " 9.99999910e-01 9.99998625e-01 9.99999901e-01 9.99999667e-01\n",
            " 9.99998880e-01 9.99999934e-01 9.99999839e-01 9.99999890e-01\n",
            " 9.99999790e-01 9.99999664e-01 9.99998631e-01 9.99999910e-01\n",
            " 9.99999918e-01 9.99999738e-01 9.99999651e-01 1.45531649e-01\n",
            " 3.68668212e-01 9.99999960e-01 9.99999850e-01 9.99999949e-01\n",
            " 9.99999901e-01 9.99999022e-01 9.99993140e-01 9.99999904e-01\n",
            " 9.99999904e-01 9.99999945e-01 9.99999836e-01 9.99999632e-01\n",
            " 9.99999827e-01 9.99999947e-01 9.99999924e-01 5.52114545e-01\n",
            " 9.99999765e-01 9.99999857e-01 9.99999665e-01 9.99999838e-01\n",
            " 9.99999816e-01 9.99999864e-01 9.99999830e-01 9.99999782e-01\n",
            " 9.99999884e-01 1.40751539e-05 9.99998931e-01 9.99999945e-01\n",
            " 9.99999909e-01 9.99999716e-01 9.99999680e-01 9.99997337e-01\n",
            " 9.99999173e-01 9.99999646e-01 9.99999784e-01 9.99999798e-01\n",
            " 9.99999572e-01 9.99999884e-01 9.99999785e-01 9.99999853e-01\n",
            " 9.99999794e-01 9.99998844e-01 9.99999798e-01 9.99999842e-01\n",
            " 9.99999921e-01 4.06943282e-01 9.99999920e-01 9.99999922e-01\n",
            " 9.99999889e-01 9.99999922e-01 9.99999904e-01 9.99999830e-01\n",
            " 9.99999842e-01 9.99999932e-01 9.99999771e-01 9.99999905e-01\n",
            " 9.99999950e-01 9.99999901e-01 9.99999948e-01 9.99999940e-01\n",
            " 6.55477922e-01 2.17169611e-05 9.99999799e-01 9.99999436e-01\n",
            " 9.99999795e-01 9.99999795e-01 9.99999816e-01 9.99999888e-01\n",
            " 9.99999873e-01 9.99999844e-01 9.99999557e-01 9.99999808e-01\n",
            " 9.99999493e-01 9.99999732e-01 9.99999941e-01 9.99999915e-01\n",
            " 9.99999842e-01 9.23314829e-01 9.99999840e-01 9.99998927e-01\n",
            " 9.99999891e-01 9.99999648e-01 9.99999770e-01 9.99999949e-01\n",
            " 9.99999907e-01 9.99999917e-01 9.99999928e-01 9.99999911e-01\n",
            " 9.99999895e-01 1.25259447e-02 9.99999935e-01 9.99999897e-01\n",
            " 9.99999848e-01 9.99999833e-01 9.99999962e-01 9.99999959e-01\n",
            " 9.99999952e-01 9.99999823e-01 9.99999263e-01 9.99999968e-01\n",
            " 9.99999939e-01 9.99999647e-01 9.99997495e-01 9.99999671e-01\n",
            " 9.99997623e-01 9.99999766e-01 9.99999636e-01 3.79267792e-01\n",
            " 9.99999020e-01 9.99999631e-01 4.50854275e-05 9.99999842e-01\n",
            " 9.99999876e-01 9.99999874e-01 9.99999958e-01 9.99999889e-01\n",
            " 9.99999817e-01 9.99999860e-01 9.99999876e-01 9.99999832e-01\n",
            " 9.99999678e-01 9.99999857e-01 9.99999868e-01 9.99999272e-01\n",
            " 9.99999903e-01 9.99999825e-01 9.99999912e-01 9.99999889e-01\n",
            " 9.99999917e-01 9.99999723e-01 9.99997102e-01 9.99999890e-01\n",
            " 9.99999449e-01 9.99994482e-01 9.99999730e-01 9.99999893e-01\n",
            " 9.99999293e-01 9.99999871e-01 9.99999896e-01 9.99999957e-01\n",
            " 9.99999919e-01 9.99999790e-01 9.99999888e-01 9.99999914e-01\n",
            " 9.99999889e-01 9.99999908e-01 9.99999943e-01 9.99999899e-01\n",
            " 1.51828815e-01 9.99999899e-01 9.99999773e-01 9.99999820e-01\n",
            " 9.99999708e-01 9.99999445e-01 9.99999953e-01 9.99999825e-01\n",
            " 9.99999756e-01 9.99999582e-01 9.99999884e-01 9.99999892e-01\n",
            " 9.99999880e-01 9.99999861e-01 9.99999940e-01 9.99999825e-01\n",
            " 9.99999903e-01 9.99999851e-01 9.99999614e-01 9.99998345e-01\n",
            " 9.99999698e-01 9.99994389e-01 9.99999928e-01 9.99999320e-01\n",
            " 9.99999831e-01 5.06278628e-02 9.99999856e-01 9.99985687e-01\n",
            " 9.99996867e-01 9.99999926e-01 8.44478842e-01 9.99999624e-01\n",
            " 9.99999914e-01 9.99985802e-01 2.96273557e-01 9.99999810e-01\n",
            " 9.99999614e-01 9.99999389e-01 9.99999793e-01 9.99999536e-01\n",
            " 9.99999892e-01 9.99999879e-01 9.99991651e-01 9.99999681e-01\n",
            " 9.99999740e-01 9.99999863e-01 9.99999623e-01 9.99998536e-01\n",
            " 9.99999876e-01 9.99999860e-01 9.99999843e-01 9.99998874e-01\n",
            " 9.99999820e-01 9.99999674e-01 9.99999704e-01 9.99998995e-01\n",
            " 9.99999079e-01 9.99999802e-01 9.99999817e-01 9.99999535e-01\n",
            " 9.99999707e-01 9.99998383e-01 9.99999864e-01 4.65300438e-01\n",
            " 9.99998973e-01 9.99999417e-01 9.99999676e-01 9.99999504e-01\n",
            " 2.91743596e-01 9.99999645e-01 9.99999822e-01 9.99999516e-01\n",
            " 9.99999871e-01 9.99999783e-01 9.99999890e-01 9.99999951e-01\n",
            " 9.99999902e-01 9.99999892e-01 9.99998199e-01 9.99999680e-01\n",
            " 9.99999920e-01 9.99999913e-01 9.99999928e-01 9.99999874e-01\n",
            " 9.99999129e-01 9.99999931e-01 9.99999911e-01 9.99999676e-01\n",
            " 9.99999782e-01]\n",
            "Support vectors =    (0, 1)\t0.127273\n",
            "  (0, 2)\t-0.0952381\n",
            "  (0, 3)\t-0.289256\n",
            "  (0, 4)\t0.0322581\n",
            "  (0, 5)\t0.0545455\n",
            "  (0, 6)\t-0.157895\n",
            "  (0, 7)\t-0.265625\n",
            "  (0, 8)\t-0.25\n",
            "  (0, 9)\t-0.106796\n",
            "  (0, 10)\t-0.242105\n",
            "  (0, 11)\t-0.328125\n",
            "  (0, 12)\t-0.0967742\n",
            "  (0, 14)\t-0.434783\n",
            "  (0, 15)\t-0.491525\n",
            "  (0, 16)\t-0.125\n",
            "  (0, 17)\t-0.0679612\n",
            "  (0, 18)\t-0.542169\n",
            "  (0, 19)\t-0.528455\n",
            "  (0, 20)\t-0.107692\n",
            "  (0, 21)\t0.0873786\n",
            "  (0, 22)\t-0.177778\n",
            "  (0, 23)\t-0.344\n",
            "  (0, 24)\t-0.15625\n",
            "  (0, 25)\t-0.134615\n",
            "  (0, 26)\t-0.517241\n",
            "  :\t:\n",
            "  (368, 11)\t-0.390625\n",
            "  (368, 12)\t0.16129\n",
            "  (368, 13)\t0.153846\n",
            "  (368, 14)\t-0.0652174\n",
            "  (368, 15)\t-0.372881\n",
            "  (368, 16)\t0.125\n",
            "  (368, 17)\t0.242718\n",
            "  (368, 18)\t-0.0361446\n",
            "  (368, 19)\t-0.414634\n",
            "  (368, 20)\t0.138462\n",
            "  (368, 21)\t0.0873786\n",
            "  (368, 22)\t0.0222222\n",
            "  (368, 23)\t-0.344\n",
            "  (368, 24)\t0.21875\n",
            "  (368, 25)\t0.230769\n",
            "  (368, 26)\t-0.0114943\n",
            "  (368, 27)\t-0.383333\n",
            "  (368, 28)\t0.107692\n",
            "  (368, 29)\t0.267327\n",
            "  (368, 30)\t-0.0947368\n",
            "  (368, 31)\t-0.34375\n",
            "  (368, 32)\t0.09375\n",
            "  (368, 33)\t0.0873786\n",
            "  (368, 34)\t-0.178947\n",
            "  (368, 35)\t-0.34375\n",
            "y support vectors =  [ 1.  1.  1.  1.  1.  1.  1.  1.  1.  1.  1.  1.  1.  1.  1.  1.  1.  1.\n",
            "  1.  1.  1.  1.  1.  1.  1.  1.  1.  1.  1.  1.  1.  1.  1.  1.  1.  1.\n",
            "  1.  1.  1.  1.  1.  1.  1.  1.  1.  1.  1.  1.  1.  1.  1.  1.  1.  1.\n",
            "  1.  1.  1.  1.  1.  1.  1.  1.  1.  1.  1.  1.  1.  1.  1.  1.  1.  1.\n",
            "  1.  1.  1.  1.  1.  1.  1.  1.  1.  1.  1.  1.  1.  1.  1.  1.  1.  1.\n",
            "  1.  1.  1.  1.  1.  1.  1.  1.  1.  1.  1. -1.  1.  1.  1. -1.  1.  1.\n",
            "  1.  1.  1.  1.  1.  1.  1.  1.  1. -1.  1.  1. -1.  1.  1.  1.  1.  1.\n",
            "  1.  1. -1. -1.  1.  1.  1. -1.  1.  1. -1.  1.  1. -1.  1.  1. -1.  1.\n",
            " -1.  1. -1.  1.  1. -1.  1.  1. -1. -1.  1. -1.  1.  1.  1.  1. -1. -1.\n",
            "  1. -1.  1.  1. -1.  1. -1. -1.  1.  1. -1.  1.  1. -1.  1.  1. -1.  1.\n",
            " -1.  1.  1. -1.  1.  1. -1. -1. -1. -1.  1. -1. -1.  1. -1.  1. -1. -1.\n",
            " -1. -1. -1. -1. -1. -1. -1. -1.  1. -1. -1. -1. -1. -1. -1. -1. -1. -1.\n",
            " -1. -1. -1. -1. -1. -1. -1. -1. -1. -1. -1. -1. -1. -1. -1. -1. -1. -1.\n",
            "  1. -1. -1. -1. -1. -1. -1. -1. -1. -1. -1. -1. -1. -1. -1. -1. -1. -1.\n",
            " -1. -1. -1. -1. -1.  1. -1. -1. -1. -1. -1. -1. -1. -1. -1. -1.  1. -1.\n",
            " -1. -1. -1. -1. -1. -1. -1.  1. -1. -1. -1. -1.  1. -1. -1. -1. -1. -1.\n",
            "  1. -1. -1. -1. -1. -1. -1. -1.  1. -1. -1. -1.  1. -1.  1.  1. -1.  1.\n",
            "  1. -1.  1. -1. -1. -1. -1.  1. -1. -1. -1.  1.  1. -1. -1.  1. -1. -1.\n",
            " -1. -1. -1. -1. -1. -1. -1. -1. -1. -1. -1.  1.  1. -1. -1. -1. -1. -1.\n",
            " -1. -1.  1. -1. -1. -1.  1.  1. -1. -1. -1. -1. -1. -1. -1.  1. -1. -1.\n",
            " -1. -1. -1. -1. -1. -1. -1.  1. -1.]\n"
          ]
        }
      ],
      "source": [
        "\n",
        "# Lagrange multipliers\n",
        "alphas = np.ravel(sol['x'])\n",
        "\n",
        "# Extract support vectors\n",
        "sv = alphas > 1e-5\n",
        "ind = np.arange(len(alphas))[sv]\n",
        "\n",
        "# Dual solution\n",
        "alpha_sv = alphas[sv]\n",
        "SV = X_filtered[sv]\n",
        "y_sv = y[sv]\n",
        "\n",
        "print(\"Alphas = \", alpha_sv)\n",
        "print(\"Support vectors = \", SV)\n",
        "print(\"y support vectors = \", y_sv)\n",
        "\n"
      ]
    },
    {
      "cell_type": "code",
      "execution_count": 18,
      "metadata": {
        "colab": {
          "base_uri": "https://localhost:8080/"
        },
        "id": "hHCaB-gxSzsG",
        "outputId": "0e252f70-97c9-4943-a2c8-68afa91a3e62"
      },
      "outputs": [
        {
          "output_type": "execute_result",
          "data": {
            "text/plain": [
              "(369,\n",
              " array([9.99997832e-01, 6.88198407e-08, 9.99999950e-01, 1.50609186e-07,\n",
              "        9.99999024e-01, 1.25288520e-06, 9.99999270e-01, 9.99999767e-01,\n",
              "        1.30979563e-06, 9.99999959e-01, 9.99999864e-01, 4.47877665e-07,\n",
              "        7.03007394e-01, 9.99999954e-01, 6.73799816e-07, 9.99999932e-01,\n",
              "        9.99999915e-01, 9.99999849e-01, 3.66964216e-01, 9.99999934e-01,\n",
              "        9.99999914e-01, 2.61362686e-07, 9.99999869e-01, 9.99999798e-01,\n",
              "        9.99999949e-01]))"
            ]
          },
          "metadata": {},
          "execution_count": 18
        }
      ],
      "source": [
        "len(y_sv) , alphas[ : 25]"
      ]
    },
    {
      "cell_type": "code",
      "execution_count": 19,
      "metadata": {
        "colab": {
          "base_uri": "https://localhost:8080/"
        },
        "id": "YZlqHnO2Qc6S",
        "outputId": "33273045-0c2f-47d7-9540-b2d02f6b0dd3"
      },
      "outputs": [
        {
          "output_type": "stream",
          "name": "stdout",
          "text": [
            "(681, 36)\n",
            "(681,)\n"
          ]
        }
      ],
      "source": [
        "# Classes to keep\n",
        "classes = [4, 6]\n",
        "\n",
        "# Filter rows by y_train values\n",
        "keep = np.where(np.isin(y_test, classes))[0]\n",
        "\n",
        "# Apply indices to sparse X_train\n",
        "X_test_filtered = X_test[keep, :]\n",
        "X_test_filtered_duplicate = X_test_filtered\n",
        "\n",
        "# Apply indices to dense y_train\n",
        "y_test_filtered = y_test[keep]\n",
        "print(X_test_filtered.shape)\n",
        "print(y_test_filtered.shape)"
      ]
    },
    {
      "cell_type": "code",
      "execution_count": 20,
      "metadata": {
        "colab": {
          "base_uri": "https://localhost:8080/"
        },
        "id": "sXiWyJdMXdGp",
        "outputId": "912965fe-807c-4a98-d055-4017b707961d"
      },
      "outputs": [
        {
          "output_type": "execute_result",
          "data": {
            "text/plain": [
              "scipy.sparse._csr.csr_matrix"
            ]
          },
          "metadata": {},
          "execution_count": 20
        }
      ],
      "source": [
        "type(X_test_filtered)"
      ]
    },
    {
      "cell_type": "code",
      "execution_count": 21,
      "metadata": {
        "id": "fXxQRUEmXqvI"
      },
      "outputs": [],
      "source": [
        "X_test_filtered = X_test_filtered.toarray()"
      ]
    },
    {
      "cell_type": "code",
      "execution_count": 22,
      "metadata": {
        "colab": {
          "base_uri": "https://localhost:8080/"
        },
        "id": "_sCyjDOWXtqM",
        "outputId": "57e98fd0-3a6f-4eba-fe78-ceb6a9d2351b"
      },
      "outputs": [
        {
          "output_type": "execute_result",
          "data": {
            "text/plain": [
              "numpy.ndarray"
            ]
          },
          "metadata": {},
          "execution_count": 22
        }
      ],
      "source": [
        "type(X_test_filtered)"
      ]
    },
    {
      "cell_type": "code",
      "execution_count": 23,
      "metadata": {
        "id": "Jtzy3j1itTmn",
        "colab": {
          "base_uri": "https://localhost:8080/"
        },
        "outputId": "5b1f6fda-a5de-42fb-f8e5-f52d20ebd7fa"
      },
      "outputs": [
        {
          "output_type": "execute_result",
          "data": {
            "text/plain": [
              "array([4., 4., 4., 4., 4., 4., 4., 4., 4., 4., 4., 4., 4., 4., 4., 4., 4.,\n",
              "       4., 4., 4., 4., 4., 4., 4., 4., 4., 4., 4., 4., 4., 4., 4., 4., 4.,\n",
              "       4., 4., 4., 4., 4., 4., 4., 4., 4., 4., 4., 4., 4., 4., 4., 4.])"
            ]
          },
          "metadata": {},
          "execution_count": 23
        }
      ],
      "source": [
        "y_test_filtered[100:150]"
      ]
    },
    {
      "cell_type": "code",
      "source": [
        "y_test_binary = np.where(y_test_filtered == 4, -1, np.where(y_test_filtered == 6, 1, y_test_filtered))\n",
        "y_test_binary[250:350]"
      ],
      "metadata": {
        "colab": {
          "base_uri": "https://localhost:8080/"
        },
        "id": "pzqey_1RRuOf",
        "outputId": "07011293-ba20-4d92-e334-174dc83ba9e5"
      },
      "execution_count": 24,
      "outputs": [
        {
          "output_type": "execute_result",
          "data": {
            "text/plain": [
              "array([1., 1., 1., 1., 1., 1., 1., 1., 1., 1., 1., 1., 1., 1., 1., 1., 1.,\n",
              "       1., 1., 1., 1., 1., 1., 1., 1., 1., 1., 1., 1., 1., 1., 1., 1., 1.,\n",
              "       1., 1., 1., 1., 1., 1., 1., 1., 1., 1., 1., 1., 1., 1., 1., 1., 1.,\n",
              "       1., 1., 1., 1., 1., 1., 1., 1., 1., 1., 1., 1., 1., 1., 1., 1., 1.,\n",
              "       1., 1., 1., 1., 1., 1., 1., 1., 1., 1., 1., 1., 1., 1., 1., 1., 1.,\n",
              "       1., 1., 1., 1., 1., 1., 1., 1., 1., 1., 1., 1., 1., 1., 1.])"
            ]
          },
          "metadata": {},
          "execution_count": 24
        }
      ]
    },
    {
      "cell_type": "code",
      "source": [
        "K[1,1]"
      ],
      "metadata": {
        "colab": {
          "base_uri": "https://localhost:8080/"
        },
        "id": "rWBBf44JJgHM",
        "outputId": "a03fabbc-08d2-4106-bb5a-4004c68ebb29"
      },
      "execution_count": 25,
      "outputs": [
        {
          "output_type": "execute_result",
          "data": {
            "text/plain": [
              "5.65923919066772"
            ]
          },
          "metadata": {},
          "execution_count": 25
        }
      ]
    },
    {
      "cell_type": "code",
      "execution_count": 26,
      "metadata": {
        "id": "UzVvb5x-V-87"
      },
      "outputs": [],
      "source": [
        "b = 0\n",
        "for n in range(len(alpha_sv)):\n",
        "  b += y_sv[n]\n",
        "  b -= sum(alpha_sv * y_sv * K[ind[n],sv])\n",
        "  b /= len(alpha_sv)\n",
        "\n",
        "w = np.zeros(len(X[0]))\n",
        "for n in range(len(alpha_sv)):\n",
        "  w += alpha_sv[n] * y_sv[n] * SV[n]\n"
      ]
    },
    {
      "cell_type": "code",
      "source": [
        "w"
      ],
      "metadata": {
        "colab": {
          "base_uri": "https://localhost:8080/"
        },
        "id": "WPFPPickKuAN",
        "outputId": "4a1ccaaf-308e-47ad-e84e-b7872336fce3"
      },
      "execution_count": 27,
      "outputs": [
        {
          "output_type": "execute_result",
          "data": {
            "text/plain": [
              "matrix([[ 0.33570497, -0.67034467, -1.65974   , -0.75634827,  1.12765625,\n",
              "         -0.50353652,  0.02170402,  1.03046887,  0.92544067,  0.72951705,\n",
              "         -0.45742565, -0.58279165,  0.04666628, -0.26809819, -0.27229659,\n",
              "          0.46147562, -1.4048444 , -2.12598027, -0.56439241, -0.38525066,\n",
              "         -0.02085424, -1.69192637, -0.55541202,  0.40688559,  0.39689489,\n",
              "         -1.38057235, -0.46925903,  0.57136415,  0.9816216 , -0.72986015,\n",
              "         -0.64655624,  0.17091224,  1.48801066,  0.19266652, -0.84041541,\n",
              "         -0.1402692 ]])"
            ]
          },
          "metadata": {},
          "execution_count": 27
        }
      ]
    },
    {
      "cell_type": "code",
      "source": [
        "b"
      ],
      "metadata": {
        "colab": {
          "base_uri": "https://localhost:8080/"
        },
        "id": "LrXOy9eDKxtG",
        "outputId": "e897c53f-92e2-4d7e-a6a6-981a5d2c44a7"
      },
      "execution_count": 28,
      "outputs": [
        {
          "output_type": "execute_result",
          "data": {
            "text/plain": [
              "-0.0013955176573914683"
            ]
          },
          "metadata": {},
          "execution_count": 28
        }
      ]
    },
    {
      "cell_type": "code",
      "source": [
        "def svm_predict(X_test):\n",
        "    return np.sign(w * X_test.T + b)"
      ],
      "metadata": {
        "id": "-p4RqtUYIymA"
      },
      "execution_count": 29,
      "outputs": []
    },
    {
      "cell_type": "code",
      "execution_count": 30,
      "metadata": {
        "id": "ZvNonpuPqS3o"
      },
      "outputs": [],
      "source": [
        "# Make predictions on test set\n",
        "y_pred = svm_predict(X_test_filtered)"
      ]
    },
    {
      "cell_type": "code",
      "source": [
        "y_test_filtered.shape\n",
        "type(y_test_filtered)"
      ],
      "metadata": {
        "colab": {
          "base_uri": "https://localhost:8080/"
        },
        "id": "lgKIX1_8O3k3",
        "outputId": "0549689b-b9c7-411f-de96-d0e70bae217f"
      },
      "execution_count": 31,
      "outputs": [
        {
          "output_type": "execute_result",
          "data": {
            "text/plain": [
              "numpy.ndarray"
            ]
          },
          "metadata": {},
          "execution_count": 31
        }
      ]
    },
    {
      "cell_type": "code",
      "source": [
        "type(y_pred)"
      ],
      "metadata": {
        "colab": {
          "base_uri": "https://localhost:8080/"
        },
        "id": "WqX2w7ipPHEK",
        "outputId": "5aa8d3d4-5d5b-460c-a47b-65df9c5cb956"
      },
      "execution_count": 32,
      "outputs": [
        {
          "output_type": "execute_result",
          "data": {
            "text/plain": [
              "numpy.matrix"
            ]
          },
          "metadata": {},
          "execution_count": 32
        }
      ]
    },
    {
      "cell_type": "code",
      "source": [
        "y_pred = np.squeeze(np.asarray(y_pred))"
      ],
      "metadata": {
        "id": "i1EaLPw5OOv_"
      },
      "execution_count": 33,
      "outputs": []
    },
    {
      "cell_type": "code",
      "source": [
        "y_pred.shape"
      ],
      "metadata": {
        "colab": {
          "base_uri": "https://localhost:8080/"
        },
        "id": "NNLaTkfPPAlM",
        "outputId": "e21acb83-9754-41c4-935d-ba13b92790c8"
      },
      "execution_count": 34,
      "outputs": [
        {
          "output_type": "execute_result",
          "data": {
            "text/plain": [
              "(681,)"
            ]
          },
          "metadata": {},
          "execution_count": 34
        }
      ]
    },
    {
      "cell_type": "code",
      "source": [
        "# Accuracy\n",
        "def accuracy_(y_true, y_pred):\n",
        "  correct = np.sum(y_true == y_pred)\n",
        "  total = len(y_true)\n",
        "  return correct / total\n",
        "\n",
        "# Confusion matrix\n",
        "def confusion_matrix_(y_true, y_pred):\n",
        "  unique = np.unique(y_true)\n",
        "  matrix = np.zeros((len(unique), len(unique)))\n",
        "  for i, t in enumerate(y_true):\n",
        "    j = np.argmax(y_pred[i])\n",
        "    matrix[t][j] += 1\n",
        "  return matrix\n",
        "\n",
        "# Balanced accuracy\n",
        "def balanced_accuracy_(y_true, y_pred):\n",
        "  unique, counts = np.unique(y_true, return_counts=True)\n",
        "  class_weights = counts / len(y_true)\n",
        "  scores = [accuracy(y_true[y_true==label], y_pred[y_true==label]) for label in unique]\n",
        "  return np.average(scores, weights=class_weights)"
      ],
      "metadata": {
        "id": "v0Ur7kdAsNy0"
      },
      "execution_count": 35,
      "outputs": []
    },
    {
      "cell_type": "code",
      "execution_count": 36,
      "metadata": {
        "id": "xDtvD3rLWvPk",
        "colab": {
          "base_uri": "https://localhost:8080/"
        },
        "outputId": "676a3d33-faa4-4da0-ffe6-539ae7b93719"
      },
      "outputs": [
        {
          "output_type": "stream",
          "name": "stdout",
          "text": [
            "Accuracy: 0.8120411160058737\n",
            "Confusion Matrix:\n",
            " [[157  54]\n",
            " [ 74 396]]\n",
            "Balanced Accuracy: 0.7933145104366239\n"
          ]
        }
      ],
      "source": [
        "\n",
        "# Evaluate metrics\n",
        "accuracy = accuracy_score(y_test_binary, y_pred)\n",
        "print(\"Accuracy:\", accuracy)\n",
        "\n",
        "conf_matrix = confusion_matrix(y_test_binary, y_pred)\n",
        "print(\"Confusion Matrix:\\n\", conf_matrix)\n",
        "\n",
        "bal_accuracy = balanced_accuracy_score(y_test_binary, y_pred)\n",
        "print(\"Balanced Accuracy:\", bal_accuracy)"
      ]
    },
    {
      "cell_type": "markdown",
      "source": [
        "**Implementing the RBF Kernel**"
      ],
      "metadata": {
        "id": "ncolOmel4Yiz"
      }
    },
    {
      "cell_type": "code",
      "source": [
        "classes = [4, 6]\n",
        "keep = np.where(np.isin(y_val, classes))[0]\n",
        "X_val_filtered = X_val[keep, :]\n",
        "y_val_filtered = y_val[keep]\n",
        "y_val_binary = np.where(y_val_filtered == 4, -1, np.where(y_val_filtered == 6, 1, y_val_filtered))\n",
        "print(X_val_filtered.shape)\n",
        "print(y_val_binary.shape)\n",
        "type(X_val_filtered),type(y_val_binary)"
      ],
      "metadata": {
        "colab": {
          "base_uri": "https://localhost:8080/"
        },
        "id": "P0r6DNTcclWE",
        "outputId": "2709a8a7-6eb5-46d0-f63c-3055183498cd"
      },
      "execution_count": 37,
      "outputs": [
        {
          "output_type": "stream",
          "name": "stdout",
          "text": [
            "(606, 36)\n",
            "(606,)\n"
          ]
        },
        {
          "output_type": "execute_result",
          "data": {
            "text/plain": [
              "(scipy.sparse._csr.csr_matrix, numpy.ndarray)"
            ]
          },
          "metadata": {},
          "execution_count": 37
        }
      ]
    },
    {
      "cell_type": "code",
      "source": [
        "def RBF(x , y, gamma=1):\n",
        "    return np.exp(-gamma * np.linalg.norm(x - y, ord=2))"
      ],
      "metadata": {
        "id": "QVWHl8wfgfZN"
      },
      "execution_count": 38,
      "outputs": []
    },
    {
      "cell_type": "code",
      "source": [
        "def train_svm(inpute_data, label, parameter , Kernel ):\n",
        "  y = label\n",
        "  X = inpute_data\n",
        "  C = parameter\n",
        "  X = X.toarray()\n",
        "  # Kernel matrix\n",
        "  K = X @ X.T\n",
        "  P = cvxopt.matrix(np.outer(y, y) * K)\n",
        "  q = cvxopt.matrix(-np.ones((len(y), 1)))\n",
        "  top = np.diag(np.ones(len(y)) * -1)\n",
        "  bot = np.identity(len(y))\n",
        "  G = cvxopt.matrix(np.vstack((top, bot)))\n",
        "  left = np.zeros(len(y))\n",
        "  right  = np.ones(len(y)) * C\n",
        "  h = cvxopt.matrix(np.hstack((left,right)))\n",
        "  A = cvxopt.matrix(y, (1,len(y)))\n",
        "  b = cvxopt.matrix(np.zeros(1))\n",
        "  sol = cvxopt.solvers.qp(P, q, G, h, A, b)\n",
        "  alphas = np.ravel(sol['x'])\n",
        "  sv = alphas > 1e-5\n",
        "  ind = np.arange(len(alphas))[sv]\n",
        "  alpha_sv = alphas[sv]\n",
        "  SV = X_filtered[sv]\n",
        "  y_sv = y[sv]\n",
        "  b = 0\n",
        "  for n in range(len(alpha_sv)):\n",
        "    b += y_sv[n]\n",
        "    b -= sum(alpha_sv * y_sv * K[ind[n],sv])\n",
        "    b /= len(alpha_sv)\n",
        "\n",
        "  return alpha_sv, SV, y_sv, b"
      ],
      "metadata": {
        "id": "QvWOmBmedtaM"
      },
      "execution_count": 39,
      "outputs": []
    },
    {
      "cell_type": "code",
      "source": [
        "def svm_prediction_kernel(x, kernel, a, sv, sv_y, b , g):\n",
        "  x = x.toarray()\n",
        "  y_predict = np.zeros(len(x))\n",
        "  for i in range(len(x)):\n",
        "    s = 0\n",
        "    for _a, _sv_y, _sv in zip(a, sv_y, sv):\n",
        "      s += _a * _sv_y * kernel(x[i], _sv , gamma=g)\n",
        "    y_predict[i] = s\n",
        "  p = y_predict + b\n",
        "  return np.sign(p)\n"
      ],
      "metadata": {
        "id": "G9vkpBW6pKs4"
      },
      "execution_count": 40,
      "outputs": []
    },
    {
      "cell_type": "code",
      "source": [
        "gammas = [0.01, 0.1, 0.2 ,0.5, 1, 10, 100]\n",
        "for _gamma in gammas:\n",
        "  print(f'the gamma value is :  {_gamma}')\n",
        "  a1, sv1, sv_y1, b1 = train_svm(X_filtered, y_binary , 1.0 , RBF)\n",
        "  y_val_pred = svm_prediction_kernel(X_val_filtered, RBF, a1, sv1, sv_y1, b1 ,_gamma)\n",
        "  y_val_pred = np.squeeze(np.asarray(y_val_pred))\n",
        "  accuracy = accuracy_score(y_val_binary, y_val_pred)\n",
        "  print(\"Accuracy:\", accuracy)\n",
        "  conf_matrix = confusion_matrix(y_val_binary, y_val_pred)\n",
        "  print(\"Confusion Matrix:\\n\", conf_matrix)\n",
        "  bal_accuracy = balanced_accuracy_score(y_val_binary, y_val_pred)\n",
        "  print(\"Balanced Accuracy:\", bal_accuracy)"
      ],
      "metadata": {
        "colab": {
          "base_uri": "https://localhost:8080/"
        },
        "id": "LXd5wY352lA_",
        "outputId": "45ef4416-287f-4e58-8e4d-0d8e5cc37fef"
      },
      "execution_count": 41,
      "outputs": [
        {
          "output_type": "stream",
          "name": "stdout",
          "text": [
            "the gamma value is :  0.01\n",
            "     pcost       dcost       gap    pres   dres\n",
            " 0: -4.1814e+02 -2.1475e+03  1e+04  3e+00  1e-13\n",
            " 1: -2.8867e+02 -1.4286e+03  2e+03  3e-01  1e-13\n",
            " 2: -2.7710e+02 -4.7698e+02  2e+02  2e-02  9e-14\n",
            " 3: -3.0754e+02 -3.9958e+02  1e+02  8e-03  9e-14\n",
            " 4: -3.2114e+02 -3.7229e+02  5e+01  4e-03  1e-13\n",
            " 5: -3.2791e+02 -3.6008e+02  3e+01  2e-03  9e-14\n",
            " 6: -3.3417e+02 -3.4949e+02  2e+01  9e-04  1e-13\n",
            " 7: -3.3732e+02 -3.4436e+02  7e+00  3e-04  1e-13\n",
            " 8: -3.3870e+02 -3.4213e+02  3e+00  1e-04  1e-13\n",
            " 9: -3.3959e+02 -3.4086e+02  1e+00  3e-05  1e-13\n",
            "10: -3.4009e+02 -3.4022e+02  1e-01  6e-14  1e-13\n",
            "11: -3.4015e+02 -3.4016e+02  8e-03  6e-14  1e-13\n",
            "12: -3.4016e+02 -3.4016e+02  2e-04  1e-13  1e-13\n",
            "Optimal solution found.\n",
            "Accuracy: 0.17986798679867988\n",
            "Confusion Matrix:\n",
            " [[109   0]\n",
            " [497   0]]\n",
            "Balanced Accuracy: 0.5\n",
            "the gamma value is :  0.1\n",
            "     pcost       dcost       gap    pres   dres\n",
            " 0: -4.1814e+02 -2.1475e+03  1e+04  3e+00  1e-13\n",
            " 1: -2.8867e+02 -1.4286e+03  2e+03  3e-01  1e-13\n",
            " 2: -2.7710e+02 -4.7698e+02  2e+02  2e-02  9e-14\n",
            " 3: -3.0754e+02 -3.9958e+02  1e+02  8e-03  9e-14\n",
            " 4: -3.2114e+02 -3.7229e+02  5e+01  4e-03  1e-13\n",
            " 5: -3.2791e+02 -3.6008e+02  3e+01  2e-03  9e-14\n",
            " 6: -3.3417e+02 -3.4949e+02  2e+01  9e-04  1e-13\n",
            " 7: -3.3732e+02 -3.4436e+02  7e+00  3e-04  1e-13\n",
            " 8: -3.3870e+02 -3.4213e+02  3e+00  1e-04  1e-13\n",
            " 9: -3.3959e+02 -3.4086e+02  1e+00  3e-05  1e-13\n",
            "10: -3.4009e+02 -3.4022e+02  1e-01  6e-14  1e-13\n",
            "11: -3.4015e+02 -3.4016e+02  8e-03  6e-14  1e-13\n",
            "12: -3.4016e+02 -3.4016e+02  2e-04  1e-13  1e-13\n",
            "Optimal solution found.\n",
            "Accuracy: 0.17986798679867988\n",
            "Confusion Matrix:\n",
            " [[109   0]\n",
            " [497   0]]\n",
            "Balanced Accuracy: 0.5\n",
            "the gamma value is :  0.2\n",
            "     pcost       dcost       gap    pres   dres\n",
            " 0: -4.1814e+02 -2.1475e+03  1e+04  3e+00  1e-13\n",
            " 1: -2.8867e+02 -1.4286e+03  2e+03  3e-01  1e-13\n",
            " 2: -2.7710e+02 -4.7698e+02  2e+02  2e-02  9e-14\n",
            " 3: -3.0754e+02 -3.9958e+02  1e+02  8e-03  9e-14\n",
            " 4: -3.2114e+02 -3.7229e+02  5e+01  4e-03  1e-13\n",
            " 5: -3.2791e+02 -3.6008e+02  3e+01  2e-03  9e-14\n",
            " 6: -3.3417e+02 -3.4949e+02  2e+01  9e-04  1e-13\n",
            " 7: -3.3732e+02 -3.4436e+02  7e+00  3e-04  1e-13\n",
            " 8: -3.3870e+02 -3.4213e+02  3e+00  1e-04  1e-13\n",
            " 9: -3.3959e+02 -3.4086e+02  1e+00  3e-05  1e-13\n",
            "10: -3.4009e+02 -3.4022e+02  1e-01  6e-14  1e-13\n",
            "11: -3.4015e+02 -3.4016e+02  8e-03  6e-14  1e-13\n",
            "12: -3.4016e+02 -3.4016e+02  2e-04  1e-13  1e-13\n",
            "Optimal solution found.\n",
            "Accuracy: 0.17986798679867988\n",
            "Confusion Matrix:\n",
            " [[109   0]\n",
            " [497   0]]\n",
            "Balanced Accuracy: 0.5\n",
            "the gamma value is :  0.5\n",
            "     pcost       dcost       gap    pres   dres\n",
            " 0: -4.1814e+02 -2.1475e+03  1e+04  3e+00  1e-13\n",
            " 1: -2.8867e+02 -1.4286e+03  2e+03  3e-01  1e-13\n",
            " 2: -2.7710e+02 -4.7698e+02  2e+02  2e-02  9e-14\n",
            " 3: -3.0754e+02 -3.9958e+02  1e+02  8e-03  9e-14\n",
            " 4: -3.2114e+02 -3.7229e+02  5e+01  4e-03  1e-13\n",
            " 5: -3.2791e+02 -3.6008e+02  3e+01  2e-03  9e-14\n",
            " 6: -3.3417e+02 -3.4949e+02  2e+01  9e-04  1e-13\n",
            " 7: -3.3732e+02 -3.4436e+02  7e+00  3e-04  1e-13\n",
            " 8: -3.3870e+02 -3.4213e+02  3e+00  1e-04  1e-13\n",
            " 9: -3.3959e+02 -3.4086e+02  1e+00  3e-05  1e-13\n",
            "10: -3.4009e+02 -3.4022e+02  1e-01  6e-14  1e-13\n",
            "11: -3.4015e+02 -3.4016e+02  8e-03  6e-14  1e-13\n",
            "12: -3.4016e+02 -3.4016e+02  2e-04  1e-13  1e-13\n",
            "Optimal solution found.\n",
            "Accuracy: 0.19306930693069307\n",
            "Confusion Matrix:\n",
            " [[109   0]\n",
            " [489   8]]\n",
            "Balanced Accuracy: 0.5080482897384306\n",
            "the gamma value is :  1\n",
            "     pcost       dcost       gap    pres   dres\n",
            " 0: -4.1814e+02 -2.1475e+03  1e+04  3e+00  1e-13\n",
            " 1: -2.8867e+02 -1.4286e+03  2e+03  3e-01  1e-13\n",
            " 2: -2.7710e+02 -4.7698e+02  2e+02  2e-02  9e-14\n",
            " 3: -3.0754e+02 -3.9958e+02  1e+02  8e-03  9e-14\n",
            " 4: -3.2114e+02 -3.7229e+02  5e+01  4e-03  1e-13\n",
            " 5: -3.2791e+02 -3.6008e+02  3e+01  2e-03  9e-14\n",
            " 6: -3.3417e+02 -3.4949e+02  2e+01  9e-04  1e-13\n",
            " 7: -3.3732e+02 -3.4436e+02  7e+00  3e-04  1e-13\n",
            " 8: -3.3870e+02 -3.4213e+02  3e+00  1e-04  1e-13\n",
            " 9: -3.3959e+02 -3.4086e+02  1e+00  3e-05  1e-13\n",
            "10: -3.4009e+02 -3.4022e+02  1e-01  6e-14  1e-13\n",
            "11: -3.4015e+02 -3.4016e+02  8e-03  6e-14  1e-13\n",
            "12: -3.4016e+02 -3.4016e+02  2e-04  1e-13  1e-13\n",
            "Optimal solution found.\n",
            "Accuracy: 0.5891089108910891\n",
            "Confusion Matrix:\n",
            " [[107   2]\n",
            " [247 250]]\n",
            "Balanced Accuracy: 0.7423347423993503\n",
            "the gamma value is :  10\n",
            "     pcost       dcost       gap    pres   dres\n",
            " 0: -4.1814e+02 -2.1475e+03  1e+04  3e+00  1e-13\n",
            " 1: -2.8867e+02 -1.4286e+03  2e+03  3e-01  1e-13\n",
            " 2: -2.7710e+02 -4.7698e+02  2e+02  2e-02  9e-14\n",
            " 3: -3.0754e+02 -3.9958e+02  1e+02  8e-03  9e-14\n",
            " 4: -3.2114e+02 -3.7229e+02  5e+01  4e-03  1e-13\n",
            " 5: -3.2791e+02 -3.6008e+02  3e+01  2e-03  9e-14\n",
            " 6: -3.3417e+02 -3.4949e+02  2e+01  9e-04  1e-13\n",
            " 7: -3.3732e+02 -3.4436e+02  7e+00  3e-04  1e-13\n",
            " 8: -3.3870e+02 -3.4213e+02  3e+00  1e-04  1e-13\n",
            " 9: -3.3959e+02 -3.4086e+02  1e+00  3e-05  1e-13\n",
            "10: -3.4009e+02 -3.4022e+02  1e-01  6e-14  1e-13\n",
            "11: -3.4015e+02 -3.4016e+02  8e-03  6e-14  1e-13\n",
            "12: -3.4016e+02 -3.4016e+02  2e-04  1e-13  1e-13\n",
            "Optimal solution found.\n",
            "Accuracy: 0.5907590759075908\n",
            "Confusion Matrix:\n",
            " [[ 95  14]\n",
            " [234 263]]\n",
            "Balanced Accuracy: 0.700367341664667\n",
            "the gamma value is :  100\n",
            "     pcost       dcost       gap    pres   dres\n",
            " 0: -4.1814e+02 -2.1475e+03  1e+04  3e+00  1e-13\n",
            " 1: -2.8867e+02 -1.4286e+03  2e+03  3e-01  1e-13\n",
            " 2: -2.7710e+02 -4.7698e+02  2e+02  2e-02  9e-14\n",
            " 3: -3.0754e+02 -3.9958e+02  1e+02  8e-03  9e-14\n",
            " 4: -3.2114e+02 -3.7229e+02  5e+01  4e-03  1e-13\n",
            " 5: -3.2791e+02 -3.6008e+02  3e+01  2e-03  9e-14\n",
            " 6: -3.3417e+02 -3.4949e+02  2e+01  9e-04  1e-13\n",
            " 7: -3.3732e+02 -3.4436e+02  7e+00  3e-04  1e-13\n",
            " 8: -3.3870e+02 -3.4213e+02  3e+00  1e-04  1e-13\n",
            " 9: -3.3959e+02 -3.4086e+02  1e+00  3e-05  1e-13\n",
            "10: -3.4009e+02 -3.4022e+02  1e-01  6e-14  1e-13\n",
            "11: -3.4015e+02 -3.4016e+02  8e-03  6e-14  1e-13\n",
            "12: -3.4016e+02 -3.4016e+02  2e-04  1e-13  1e-13\n",
            "Optimal solution found.\n",
            "Accuracy: 0.17986798679867988\n",
            "Confusion Matrix:\n",
            " [[109   0]\n",
            " [497   0]]\n",
            "Balanced Accuracy: 0.5\n"
          ]
        }
      ]
    },
    {
      "cell_type": "code",
      "source": [
        "gamma_ = 1\n",
        "sigma = np.sqrt(1 / (2 * gamma_))\n",
        "print(\"the best value for gamma is:\\n\", gamma_)\n",
        "print(\"the best value for sigam is :\\n\", sigma)"
      ],
      "metadata": {
        "colab": {
          "base_uri": "https://localhost:8080/"
        },
        "id": "6s-Y2VK7SrIn",
        "outputId": "430cec5b-40da-4abb-f5fd-88f49e2d63d4"
      },
      "execution_count": 42,
      "outputs": [
        {
          "output_type": "stream",
          "name": "stdout",
          "text": [
            "the best value for gamma is:\n",
            " 1\n",
            "the best value for sigam is :\n",
            " 0.7071067811865476\n"
          ]
        }
      ]
    },
    {
      "cell_type": "code",
      "source": [
        "b"
      ],
      "metadata": {
        "colab": {
          "base_uri": "https://localhost:8080/"
        },
        "id": "yzir71KiqaBb",
        "outputId": "c294c611-c263-4002-c122-633cceece120"
      },
      "execution_count": 43,
      "outputs": [
        {
          "output_type": "execute_result",
          "data": {
            "text/plain": [
              "-0.0013955176573914683"
            ]
          },
          "metadata": {},
          "execution_count": 43
        }
      ]
    },
    {
      "cell_type": "code",
      "source": [
        "y_test_pred_kernel = svm_prediction_kernel(X_test_filtered_duplicate, RBF, alpha_sv, SV, y_sv, b ,gamma_)\n",
        "y_test_pred_kernel = np.squeeze(np.asarray(y_test_pred_kernel))\n",
        "accuracy = accuracy_score(y_test_binary, y_test_pred_kernel)\n",
        "print(\"Accuracy:\", accuracy)\n",
        "conf_matrix = confusion_matrix(y_test_binary, y_test_pred_kernel)\n",
        "print(\"Confusion Matrix:\\n\", conf_matrix)\n",
        "bal_accuracy = balanced_accuracy_score(y_test_binary, y_test_pred_kernel)\n",
        "print(\"Balanced Accuracy:\", bal_accuracy)"
      ],
      "metadata": {
        "colab": {
          "base_uri": "https://localhost:8080/"
        },
        "id": "Ba26QYhopnVv",
        "outputId": "cc1beef7-8ff1-4e0d-ef4c-476dc68d5e65"
      },
      "execution_count": 44,
      "outputs": [
        {
          "output_type": "stream",
          "name": "stdout",
          "text": [
            "Accuracy: 0.6211453744493393\n",
            "Confusion Matrix:\n",
            " [[211   0]\n",
            " [258 212]]\n",
            "Balanced Accuracy: 0.725531914893617\n"
          ]
        }
      ]
    },
    {
      "cell_type": "markdown",
      "source": [
        "Unfortunately it did not improve"
      ],
      "metadata": {
        "id": "PjrjYSBGriAK"
      }
    },
    {
      "cell_type": "markdown",
      "source": [
        "**SVM With Scikit Learn**"
      ],
      "metadata": {
        "id": "2NFYLm8tqGbM"
      }
    },
    {
      "cell_type": "code",
      "source": [
        "acc_best , conf_mat_best , blance_acc_best = 0, 0, 0\n",
        "C_R = np.logspace(-3, 6, 20)\n",
        "gamma_R = np.logspace(-6, 3, 10)\n",
        "for _ in C_R:\n",
        "    for g1 in gamma_R:\n",
        "        model = SVC(C=_, gamma=g1)\n",
        "        model.fit(X_train, y_train)\n",
        "        y_predict = model.predict(X_test)\n",
        "        acc = balanced_accuracy_score(y_test, y_predict)\n",
        "        conf_mat = confusion_matrix(y_test, y_predict)\n",
        "        blance_acc = balanced_accuracy_score(y_test, y_predict)\n",
        "        if blance_acc > blance_acc_best:\n",
        "          acc_best = acc\n",
        "          conf_mat_best = conf_mat\n",
        "          blance_acc_best = blance_acc\n",
        "          print('######################################')\n",
        "          print('found a better balanced accuracy')\n",
        "          print(\"the C value:\", _)\n",
        "          print(\"the gamma value:\", g1)\n",
        "          print(\"Accuracy:\", acc_best)\n",
        "          print(\"Confusion Matrix:\\n\", conf_mat_best)\n",
        "          print(\"Balanced Accuracy:\", blance_acc_best)\n",
        "          print('######################################')\n",
        "\n",
        "print(\"\\n\")\n",
        "print('######################################')\n",
        "print(\"Accuracy:\", acc_best)\n",
        "print(\"Confusion Matrix:\\n\", conf_mat_best)\n",
        "print(\"Balanced Accuracy:\", blance_acc_best)"
      ],
      "metadata": {
        "colab": {
          "base_uri": "https://localhost:8080/"
        },
        "id": "F7ox7DHU0mu0",
        "outputId": "28215222-b321-4a5c-b011-3a7a22077f73"
      },
      "execution_count": 56,
      "outputs": [
        {
          "output_type": "stream",
          "name": "stdout",
          "text": [
            "######################################\n",
            "found a better balanced accuracy\n",
            "the C value: 0.001\n",
            "the gamma value: 1e-06\n",
            "Accuracy: 0.16666666666666666\n",
            "Confusion Matrix:\n",
            " [[  0   0 461   0   0   0]\n",
            " [  0   0 224   0   0   0]\n",
            " [  0   0 397   0   0   0]\n",
            " [  0   0 211   0   0   0]\n",
            " [  0   0 237   0   0   0]\n",
            " [  0   0 470   0   0   0]]\n",
            "Balanced Accuracy: 0.16666666666666666\n",
            "######################################\n",
            "######################################\n",
            "found a better balanced accuracy\n",
            "the C value: 0.002976351441631319\n",
            "the gamma value: 0.1\n",
            "Accuracy: 0.510539306830854\n",
            "Confusion Matrix:\n",
            " [[439   0  22   0   0   0]\n",
            " [ 77 147   0   0   0   0]\n",
            " [  7   0 390   0   0   0]\n",
            " [107   0 103   0   0   1]\n",
            " [226   0   3   0   0   8]\n",
            " [192   0  56   0   0 222]]\n",
            "Balanced Accuracy: 0.510539306830854\n",
            "######################################\n",
            "######################################\n",
            "found a better balanced accuracy\n",
            "the C value: 0.008858667904100823\n",
            "the gamma value: 0.1\n",
            "Accuracy: 0.6243995262890162\n",
            "Confusion Matrix:\n",
            " [[453   0   8   0   0   0]\n",
            " [ 25 196   0   0   0   3]\n",
            " [  3   0 390   0   0   4]\n",
            " [  2   0  92   0   0 117]\n",
            " [ 62   3   2   0   0 170]\n",
            " [  1   0  43   0   0 426]]\n",
            "Balanced Accuracy: 0.6243995262890162\n",
            "######################################\n",
            "######################################\n",
            "found a better balanced accuracy\n",
            "the C value: 0.026366508987303583\n",
            "the gamma value: 0.1\n",
            "Accuracy: 0.7472550941359059\n",
            "Confusion Matrix:\n",
            " [[454   0   5   0   2   0]\n",
            " [ 15 202   0   1   5   1]\n",
            " [  4   0 384   6   0   3]\n",
            " [  2   0  65  53   0  91]\n",
            " [ 43   4   1   3 125  61]\n",
            " [  1   0  23  41   5 400]]\n",
            "Balanced Accuracy: 0.7472550941359059\n",
            "######################################\n",
            "######################################\n",
            "found a better balanced accuracy\n",
            "the C value: 0.026366508987303583\n",
            "the gamma value: 1.0\n",
            "Accuracy: 0.7758658539263329\n",
            "Confusion Matrix:\n",
            " [[461   0   0   0   0   0]\n",
            " [ 28 195   0   0   0   1]\n",
            " [ 17   0 379   1   0   0]\n",
            " [ 10   0  58  98   0  45]\n",
            " [ 71   3   0   0 130  33]\n",
            " [ 13   0  23  48   2 384]]\n",
            "Balanced Accuracy: 0.7758658539263329\n",
            "######################################\n",
            "######################################\n",
            "found a better balanced accuracy\n",
            "the C value: 0.07847599703514611\n",
            "the gamma value: 0.1\n",
            "Accuracy: 0.7969104715370717\n",
            "Confusion Matrix:\n",
            " [[454   1   5   0   1   0]\n",
            " [  1 208   1   1  12   1]\n",
            " [  3   0 384   7   0   3]\n",
            " [  0   0  57  88   4  62]\n",
            " [ 32   4   1   3 156  41]\n",
            " [  1   0  18  57   6 388]]\n",
            "Balanced Accuracy: 0.7969104715370717\n",
            "######################################\n",
            "######################################\n",
            "found a better balanced accuracy\n",
            "the C value: 0.07847599703514611\n",
            "the gamma value: 1.0\n",
            "Accuracy: 0.8343418075760595\n",
            "Confusion Matrix:\n",
            " [[458   3   0   0   0   0]\n",
            " [  0 222   0   0   0   2]\n",
            " [  2  14 378   3   0   0]\n",
            " [  0   9  49 112   2  39]\n",
            " [ 28  16   1   2 171  19]\n",
            " [  1   7  20  50   8 384]]\n",
            "Balanced Accuracy: 0.8343418075760595\n",
            "######################################\n",
            "######################################\n",
            "found a better balanced accuracy\n",
            "the C value: 0.23357214690901212\n",
            "the gamma value: 1.0\n",
            "Accuracy: 0.8634568022627471\n",
            "Confusion Matrix:\n",
            " [[455   2   4   0   0   0]\n",
            " [  0 221   0   0   1   2]\n",
            " [  2   4 383   5   2   1]\n",
            " [  0   6  45 124   3  33]\n",
            " [ 16   9   1   2 194  15]\n",
            " [  0   3  19  44  11 393]]\n",
            "Balanced Accuracy: 0.8634568022627471\n",
            "######################################\n",
            "######################################\n",
            "found a better balanced accuracy\n",
            "the C value: 0.6951927961775606\n",
            "the gamma value: 1.0\n",
            "Accuracy: 0.8916258238617961\n",
            "Confusion Matrix:\n",
            " [[459   1   1   0   0   0]\n",
            " [  0 221   0   0   1   2]\n",
            " [  3   1 383   6   2   2]\n",
            " [  0   3  41 136   1  30]\n",
            " [  6   5   0   1 216   9]\n",
            " [  0   2  20  39  11 398]]\n",
            "Balanced Accuracy: 0.8916258238617961\n",
            "######################################\n",
            "######################################\n",
            "found a better balanced accuracy\n",
            "the C value: 2.069138081114788\n",
            "the gamma value: 1.0\n",
            "Accuracy: 0.8941287174541316\n",
            "Confusion Matrix:\n",
            " [[457   1   1   0   2   0]\n",
            " [  0 219   1   0   2   2]\n",
            " [  3   1 382   8   1   2]\n",
            " [  0   3  38 134   1  35]\n",
            " [  2   4   0   1 220  10]\n",
            " [  1   1  16  33  10 409]]\n",
            "Balanced Accuracy: 0.8941287174541316\n",
            "######################################\n",
            "\n",
            "\n",
            "######################################\n",
            "Accuracy: 0.8941287174541316\n",
            "Confusion Matrix:\n",
            " [[457   1   1   0   2   0]\n",
            " [  0 219   1   0   2   2]\n",
            " [  3   1 382   8   1   2]\n",
            " [  0   3  38 134   1  35]\n",
            " [  2   4   0   1 220  10]\n",
            " [  1   1  16  33  10 409]]\n",
            "Balanced Accuracy: 0.8941287174541316\n"
          ]
        }
      ]
    },
    {
      "cell_type": "markdown",
      "source": [
        "**Multi Class Classifier for SVM**"
      ],
      "metadata": {
        "id": "4qxwjSsL-B4i"
      }
    },
    {
      "cell_type": "code",
      "source": [
        "print(X_train.shape)\n",
        "print(y_train.shape)"
      ],
      "metadata": {
        "colab": {
          "base_uri": "https://localhost:8080/"
        },
        "id": "0Fj0MrY2QXYx",
        "outputId": "ba2134b6-8aef-4fe7-8715-5e231a137ce8"
      },
      "execution_count": 58,
      "outputs": [
        {
          "output_type": "stream",
          "name": "stdout",
          "text": [
            "(3104, 36)\n",
            "(3104,)\n"
          ]
        }
      ]
    },
    {
      "cell_type": "code",
      "source": [
        "# Classes to keep\n",
        "classes = [1, 3, 6]\n",
        "keep = np.where(np.isin(y_train, classes))[0]\n",
        "\n",
        "# Apply indices to sparse X_train\n",
        "X_filtered_multi = X_train[keep, :]\n",
        "X_filtered_multi = X_filtered_multi.toarray()\n",
        "# Apply indices to dense y_train\n",
        "y_filtered_multi = y_train[keep]\n",
        "print(X_filtered_multi.shape)\n",
        "print(y_filtered_multi.shape)\n"
      ],
      "metadata": {
        "colab": {
          "base_uri": "https://localhost:8080/"
        },
        "id": "OpEmCBu4P3wW",
        "outputId": "9b7ec2f7-47dc-43be-8b96-6468b92b4285"
      },
      "execution_count": 64,
      "outputs": [
        {
          "output_type": "stream",
          "name": "stdout",
          "text": [
            "(2120, 36)\n",
            "(2120,)\n"
          ]
        }
      ]
    },
    {
      "cell_type": "code",
      "source": [
        "print(X_test.shape)\n",
        "print(y_test.shape)"
      ],
      "metadata": {
        "colab": {
          "base_uri": "https://localhost:8080/"
        },
        "id": "sUy3DOGvQwRG",
        "outputId": "72822b5c-16de-4767-c3a6-82a50bfaebf1"
      },
      "execution_count": 60,
      "outputs": [
        {
          "output_type": "stream",
          "name": "stdout",
          "text": [
            "(2000, 36)\n",
            "(2000,)\n"
          ]
        }
      ]
    },
    {
      "cell_type": "code",
      "source": [
        "classes = [1, 3, 6]\n",
        "\n",
        "keep2 = np.where(np.isin(y_test, classes))[0]\n",
        "\n",
        "# Apply indices to sparse X_train\n",
        "X_test_filtered_multi = X_test[keep2, :]\n",
        "X_test_filtered_multi = X_test_filtered_multi.toarray()\n",
        "# Apply indices to dense y_train\n",
        "y_test_filtered_multi = y_test[keep2]\n",
        "\n",
        "print(X_test_filtered_multi.shape)\n",
        "print(y_test_filtered_multi.shape)"
      ],
      "metadata": {
        "colab": {
          "base_uri": "https://localhost:8080/"
        },
        "id": "29RK6fUYQu9-",
        "outputId": "29cf5050-8bd5-4746-8217-f9038e0b0298"
      },
      "execution_count": 76,
      "outputs": [
        {
          "output_type": "stream",
          "name": "stdout",
          "text": [
            "(1328, 36)\n",
            "(1328,)\n"
          ]
        }
      ]
    },
    {
      "cell_type": "code",
      "source": [
        "n_classes = np.unique(y_test_filtered_multi).shape[0]\n",
        "n_classes"
      ],
      "metadata": {
        "colab": {
          "base_uri": "https://localhost:8080/"
        },
        "id": "4z_9pnrqk63c",
        "outputId": "e1c39ba5-8393-4d7b-fa75-27ed226527f1"
      },
      "execution_count": 82,
      "outputs": [
        {
          "output_type": "execute_result",
          "data": {
            "text/plain": [
              "3"
            ]
          },
          "metadata": {},
          "execution_count": 82
        }
      ]
    },
    {
      "cell_type": "code",
      "source": [
        "import numpy as np\n",
        "\n",
        "class SVM:\n",
        "    def __init__(self, C=1.0):\n",
        "        self.C = C\n",
        "        self.W = None\n",
        "\n",
        "    def fit(self, X, y):\n",
        "        n_samples, n_features = X.shape\n",
        "        self.W = np.zeros((n_classes, n_features))\n",
        "\n",
        "        gram = self.kernel(X, X)\n",
        "        print(gram)\n",
        "        for c in range(n_classes):\n",
        "\n",
        "            indices = np.where(y == c)[0]\n",
        "            Xc = X[indices,:]\n",
        "            yc = y[indices]\n",
        "            dual_coef = self.solve_dual(gram[np.ix_(indices, indices)], yc)\n",
        "            self.W[c,:] = np.dot(dual_coef, Xc)\n",
        "\n",
        "    def predict(self, X):\n",
        "        y_pred = []\n",
        "        for x in X:\n",
        "            scores = np.dot(self.W, x)\n",
        "\n",
        "            y_pred.append(np.argmax(scores))\n",
        "        return np.array(y_pred)\n",
        "\n",
        "    def kernel(self, X1, X2):\n",
        "        return np.dot(X1, X2.T)\n",
        "\n",
        "    def solve_dual(self, K, y):\n",
        "        n_samples = len(y)\n",
        "        alpha = np.zeros(n_samples)\n",
        "        steps = 100\n",
        "        C = self.C\n",
        "\n",
        "        for i in range(steps):\n",
        "            h = np.dot(K, alpha)\n",
        "            E = h - y\n",
        "\n",
        "            mask = np.logical_and(alpha > 0, alpha < C)\n",
        "            alpha[mask] -= (E[mask] / K.diagonal()[mask])\n",
        "\n",
        "            dual_obj = alpha.T @ h - 0.5 * alpha.T @ K @ alpha - y.T @ alpha\n",
        "            primal_obj = 0.5 * np.linalg.norm(self.W) ** 2 + self.C * np.sum(np.maximum(0, 1 - y * E))\n",
        "            gap = primal_obj - dual_obj\n",
        "            if gap < 1e-5:\n",
        "                break\n",
        "\n",
        "        return alpha"
      ],
      "metadata": {
        "id": "jhHqpMNwPxnJ"
      },
      "execution_count": 92,
      "outputs": []
    },
    {
      "cell_type": "code",
      "source": [
        "svm = SVM(C=1.0)\n",
        "svm.fit(X_filtered_multi, y_filtered_multi)"
      ],
      "metadata": {
        "colab": {
          "base_uri": "https://localhost:8080/"
        },
        "id": "eL1ffoxYeptL",
        "outputId": "fc8847b4-f14e-432a-e19c-872f6387edb1"
      },
      "execution_count": 93,
      "outputs": [
        {
          "output_type": "stream",
          "name": "stdout",
          "text": [
            "[[ 3.32244512  3.99224476  1.05431032 ... -0.99821331 -0.64836757\n",
            "  -1.67065703]\n",
            " [ 3.99224476  5.65923919  1.13992337 ... -1.48850685 -0.92960544\n",
            "  -2.66733434]\n",
            " [ 1.05431032  1.13992337  3.00325734 ...  2.62193036  1.93345695\n",
            "   3.11732325]\n",
            " ...\n",
            " [-0.99821331 -1.48850685  2.62193036 ...  5.57386133  3.86634753\n",
            "   6.19019946]\n",
            " [-0.64836757 -0.92960544  1.93345695 ...  3.86634753  2.94749308\n",
            "   4.36553571]\n",
            " [-1.67065703 -2.66733434  3.11732325 ...  6.19019946  4.36553571\n",
            "   7.58666583]]\n"
          ]
        }
      ]
    },
    {
      "cell_type": "code",
      "source": [
        "y_pred = svm.predict(X_test_filtered_multi)"
      ],
      "metadata": {
        "id": "P9I-MU-dfIAd"
      },
      "execution_count": 94,
      "outputs": []
    },
    {
      "cell_type": "code",
      "source": [
        "acc = np.mean(y_pred == y_filtered_multi)"
      ],
      "metadata": {
        "colab": {
          "base_uri": "https://localhost:8080/"
        },
        "id": "XoIFS5tdlYnS",
        "outputId": "595a5950-48c2-48a0-d65d-883025d6a863"
      },
      "execution_count": 95,
      "outputs": [
        {
          "output_type": "stream",
          "name": "stderr",
          "text": [
            "<ipython-input-95-e9b4553ebc13>:1: DeprecationWarning: elementwise comparison failed; this will raise an error in the future.\n",
            "  acc = np.mean(y_pred == y_filtered_multi)\n"
          ]
        }
      ]
    },
    {
      "cell_type": "code",
      "source": [
        "acc"
      ],
      "metadata": {
        "colab": {
          "base_uri": "https://localhost:8080/"
        },
        "id": "5uEj1YQAlwGt",
        "outputId": "331517d5-c6cb-4214-98b0-0b2d0e49cd11"
      },
      "execution_count": 96,
      "outputs": [
        {
          "output_type": "execute_result",
          "data": {
            "text/plain": [
              "0.0"
            ]
          },
          "metadata": {},
          "execution_count": 96
        }
      ]
    },
    {
      "cell_type": "code",
      "source": [],
      "metadata": {
        "id": "917sVnuhnv6d"
      },
      "execution_count": null,
      "outputs": []
    }
  ],
  "metadata": {
    "colab": {
      "provenance": []
    },
    "kernelspec": {
      "display_name": "Python 3",
      "name": "python3"
    },
    "language_info": {
      "name": "python"
    }
  },
  "nbformat": 4,
  "nbformat_minor": 0
}